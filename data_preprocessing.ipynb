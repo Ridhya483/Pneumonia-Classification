{
 "metadata": {
  "language_info": {
   "codemirror_mode": {
    "name": "ipython",
    "version": 3
   },
   "file_extension": ".py",
   "mimetype": "text/x-python",
   "name": "python",
   "nbconvert_exporter": "python",
   "pygments_lexer": "ipython3",
   "version": 3
  },
  "orig_nbformat": 2
 },
 "nbformat": 4,
 "nbformat_minor": 2,
 "cells": [
  {
   "cell_type": "code",
   "execution_count": null,
   "metadata": {},
   "outputs": [],
   "source": [
    "import pickle\n",
    "import random\n",
    "import numpy as np\n",
    "import cv2\n",
    "import os"
   ]
  },
  {
   "cell_type": "code",
   "execution_count": null,
   "metadata": {},
   "outputs": [],
   "source": [
    "TRAIN_DIR = \"C:/Users/RIDZZ ZOLDYCK/Desktop/pneumonia_data/chest_xray/train\"\n",
    "#VAL_DIR = \"C:/Users/RIDZZ ZOLDYCK/Desktop/pneumonia_data/chest_xray/val\"\n",
    "TEST_DIR = \"C:/Users/RIDZZ ZOLDYCK/Desktop/pneumonia_data/chest_xray/test\""
   ]
  },
  {
   "cell_type": "code",
   "execution_count": null,
   "metadata": {},
   "outputs": [],
   "source": [
    "CATEGORIES = [\"NORMAL\", \"PNEUMONIA\"]\n",
    "\n",
    "img_size = 150\n",
    "\n",
    "train_data = []\n",
    "test_data = []\n",
    "#val_data = []"
   ]
  },
  {
   "cell_type": "code",
   "execution_count": null,
   "metadata": {},
   "outputs": [],
   "source": [
    "def create_training_data():\n",
    "    for category in CATEGORIES:\n",
    "        path = os.path.join(TRAIN_DIR, category)\n",
    "        class_num = CATEGORIES.index(category)\n",
    "\n",
    "        for img in os.listdir(path):\n",
    "            img_arr = cv2.imread(os.path.join(path, img), cv2.IMREAD_GRAYSCALE)\n",
    "            img_arr = cv2.resize(img_arr, (img_size, img_size))\n",
    "            train_data.append([img_arr, class_num])\n",
    "\n",
    "def create_test_data():\n",
    "    for category in CATEGORIES:\n",
    "        path = os.path.join(TEST_DIR, category)\n",
    "        class_num = CATEGORIES.index(category)\n",
    "\n",
    "        for img in os.listdir(path):\n",
    "            img_arr = cv2.imread(os.path.join(path, img), cv2.IMREAD_GRAYSCALE)\n",
    "            img_arr = cv2.resize(img_arr, (img_size, img_size))\n",
    "            test_data.append([img_arr, class_num])\n",
    "\n",
    "create_training_data()\n",
    "create_test_data()"
   ]
  },
  {
   "cell_type": "code",
   "execution_count": null,
   "metadata": {},
   "outputs": [],
   "source": [
    "print(\"\\n\\nNumber of images in Training Dataset : \", len(train_data))\n",
    "print(\"\\n\\nNumber of images in Test Dataset : \", len(test_data))"
   ]
  },
  {
   "cell_type": "code",
   "execution_count": null,
   "metadata": {},
   "outputs": [],
   "source": [
    "random.shuffle(train_data)\n",
    "random.shuffle(test_data)\n",
    "\n",
    "print(\" \\n\\n Some labels after shuffling : \")\n",
    "\n",
    "print(\"\\nTrain Data : \")\n",
    "for sample in train_data[:5]:\n",
    "    print(sample[1])\n",
    "\n",
    "print(\"\\nTest Data : \")\n",
    "for sample in test_data[:5]:\n",
    "    print(sample[1])"
   ]
  },
  {
   "cell_type": "code",
   "execution_count": null,
   "metadata": {},
   "outputs": [],
   "source": [
    "x_train = []\n",
    "y_train = []\n",
    "\n",
    "x_test = []\n",
    "y_test = []\n",
    "\n",
    "\n",
    "for features, label in train_data:\n",
    "    x_train.append(features)\n",
    "    y_train.append(label)\n",
    "\n",
    "\n",
    "for features, label in test_data:\n",
    "    x_test.append(features)\n",
    "    y_test.append(label)"
   ]
  },
  {
   "cell_type": "code",
   "execution_count": null,
   "metadata": {},
   "outputs": [],
   "source": [
    "x_train = np.array(x_train).reshape(-1, img_size, img_size, 1)\n",
    "x_test = np.array(x_test).reshape(-1, img_size, img_size, 1)"
   ]
  },
  {
   "cell_type": "code",
   "execution_count": null,
   "metadata": {},
   "outputs": [],
   "source": [
    "pickle_out = open(\"X_TRAIN.pickle\", \"wb\")\n",
    "pickle.dump(x_train, pickle_out)\n",
    "pickle_out.close()\n",
    "\n",
    "pickle_out = open(\"X_TEST.pickle\", \"wb\")\n",
    "pickle.dump(x_test, pickle_out)\n",
    "pickle_out.close()\n",
    "\n",
    "\n",
    "pickle_out = open(\"Y_TRAIN.pickle\", \"wb\")\n",
    "pickle.dump(y_train, pickle_out)\n",
    "pickle_out.close()\n",
    "\n",
    "pickle_out = open(\"Y_TEST.pickle\", \"wb\")\n",
    "pickle.dump(y_test, pickle_out)\n",
    "pickle_out.close()"
   ]
  },
  {
   "cell_type": "code",
   "execution_count": null,
   "metadata": {},
   "outputs": [],
   "source": [
    "print(\"\\n\\n Features and labels of all datasets have been saved.\")"
   ]
  }
 ]
}